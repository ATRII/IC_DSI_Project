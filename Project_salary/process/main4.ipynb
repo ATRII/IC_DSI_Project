{
 "cells": [
  {
   "cell_type": "markdown",
   "metadata": {},
   "source": [
    "这下面是每个州的公司数量和平均薪资的关系"
   ]
  },
  {
   "cell_type": "code",
   "execution_count": 38,
   "metadata": {},
   "outputs": [],
   "source": [
    "import json\n",
    "import numpy as np  # linear algebra\n",
    "import pandas as pd  # data processing, CSV file I/O (e.g. pd.read_csv)\n",
    "import re\n",
    "import seaborn as sns\n",
    "from pandas.core.frame import DataFrame\n"
   ]
  },
  {
   "cell_type": "code",
   "execution_count": 39,
   "metadata": {},
   "outputs": [],
   "source": [
    "dir = \"C:/Users/YH/Documents/Code/python/IC/IC_DSI_Project/Project_salary/web/json/demo2.json\"\n",
    "with open(dir, 'r', encoding='utf-8') as LoadF:\n",
    "    LoadDict = json.load(LoadF)\n",
    "\n",
    "# TODO:\n",
    "AbbMapping = {'WV': 'West Virginia', 'PR': 'Puerto Rico', 'HI': 'Hawaii', 'IA': 'Iowa', 'IL': 'Illinois', 'KS': 'Kansas', 'MA': 'Massachusetts', 'AL': 'Alabama', 'NY': 'New York', 'CO': 'Colorado', 'MT': 'Montana', 'NM': 'New Mexico', 'OK': 'Oklahoma', 'SD': 'South Dakota', 'VA': 'Virginia', 'GA': 'Georgia', 'DE': 'Delaware', 'ID': 'Idaho', 'KY': 'Kentucky', 'MI': 'Michigan', 'NV': 'Nevada', 'NC': 'North Carolina', 'NE': 'Nebraska', 'AK': 'Alaska', 'CA': 'California', 'OR': 'Oregon', 'TN': 'Tennessee',\n",
    "              'WA': 'Washington', 'IN': 'Indiana', 'ME': 'Maine', 'MS': 'Mississippi', 'NH': 'New Hampshire', 'LA': 'Louisiana', 'MN': 'Minnesota', 'OH': 'Ohio', 'AZ': 'Arizona', 'CT': 'Connecticut', 'PA': 'Pennsylvania', 'TX': 'Texas', 'FL': 'Florida', 'MD': 'Maryland', 'MO': 'Missouri', 'NJ': 'New Jersey', 'SC': 'South Carolina', 'VT': 'Vermont', 'AR': 'Arkansas', 'RI': 'Rhode Island', 'ND': 'North Dakota', 'UT': 'Utah', 'WY': 'Wyoming', 'WI': 'Wisconsin', 'DC': 'District of Columbia'}\n",
    "DataDir = \"C:/Users/YH/Documents/Code/python/IC/IC_DSI_Project/Project_salary/data/data_cleaned_2021.csv\"\n",
    "df = pd.read_csv(DataDir)\n"
   ]
  },
  {
   "cell_type": "code",
   "execution_count": 40,
   "metadata": {},
   "outputs": [
    {
     "name": "stderr",
     "output_type": "stream",
     "text": [
      "C:\\Users\\YH\\AppData\\Local\\Programs\\Python\\Python37\\lib\\site-packages\\pandas\\core\\indexing.py:1817: SettingWithCopyWarning: \n",
      "A value is trying to be set on a copy of a slice from a DataFrame.\n",
      "Try using .loc[row_indexer,col_indexer] = value instead\n",
      "\n",
      "See the caveats in the documentation: https://pandas.pydata.org/pandas-docs/stable/user_guide/indexing.html#returning-a-view-versus-a-copy\n",
      "  self._setitem_single_column(loc, value, pi)\n"
     ]
    }
   ],
   "source": [
    "\n",
    "df_loc = df['Job Location']\n",
    "# DfLocFull = [AbbMapping.get(i.split(', ')[1]) for i in df_loc]\n",
    "DfLocFull = [AbbMapping.get(i) for i in df_loc]\n",
    "JobLocCnt = {}\n",
    "for key, value in AbbMapping.items():\n",
    "    JobLocCnt[value] = 0\n",
    "for i in DfLocFull:\n",
    "    JobLocCnt[i] = JobLocCnt.get(i, 0) + 1\n",
    "DfSaLoc = df.iloc[:, [19, 21]]\n",
    "for i in range(0, DfSaLoc.shape[0]):\n",
    "    DfSaLoc.iloc[i, DfSaLoc.columns.get_loc(\n",
    "        \"Job Location\")] = AbbMapping[DfSaLoc.iloc[i, DfSaLoc.columns.get_loc(\"Job Location\")]]\n",
    "AvgSalary = {value: 0 for key, value in AbbMapping.items()}\n",
    "for index, row in DfSaLoc.iterrows():\n",
    "    AvgSalary[row[\"Job Location\"]] += row[\"Avg Salary(K)\"]\n",
    "for key, value in AvgSalary.items():\n",
    "    if(JobLocCnt[key]):\n",
    "        AvgSalary[key] /= JobLocCnt[key]\n"
   ]
  },
  {
   "cell_type": "code",
   "execution_count": 41,
   "metadata": {},
   "outputs": [],
   "source": [
    "\n",
    "df_cmloc = df['Location']\n",
    "DfLocFull = [AbbMapping.get(i.split(', ')[1]) for i in df_cmloc]\n",
    "# DfLocFull = [AbbMapping.get(i) for i in df_loc]\n",
    "CompanyCnt = {}\n",
    "for key, value in AbbMapping.items():\n",
    "    CompanyCnt[value] = 0\n",
    "for i in DfLocFull:\n",
    "    CompanyCnt[i] = CompanyCnt.get(i, 0) + 1\n",
    "\n",
    "c = {'avg': AvgSalary, 'ccnt': CompanyCnt}\n",
    "df_re = DataFrame(c)\n"
   ]
  },
  {
   "cell_type": "code",
   "execution_count": 43,
   "metadata": {},
   "outputs": [
    {
     "data": {
      "text/plain": [
       "<seaborn.axisgrid.JointGrid at 0x1a430e920c8>"
      ]
     },
     "execution_count": 43,
     "metadata": {},
     "output_type": "execute_result"
    },
    {
     "data": {
      "image/png": "[encoded data removed]",
      "text/plain": [
       "<Figure size 432x432 with 3 Axes>"
      ]
     },
     "metadata": {
      "needs_background": "light"
     },
     "output_type": "display_data"
    }
   ],
   "source": [
    "sns.jointplot(x='avg', y='ccnt',\n",
    "              data=df_re.query('avg>0 and ccnt>0',inplace=False), kind='reg')\n"
   ]
  }
 ],
 "metadata": {
  "interpreter": {
   "hash": "9c6c61eef39ce8098df51f967d0c20fccd77ba0f09bc3a5e52875f349e2c6b65"
  },
  "kernelspec": {
   "display_name": "Python 3.7.6 64-bit",
   "language": "python",
   "name": "python3"
  },
  "language_info": {
   "codemirror_mode": {
    "name": "ipython",
    "version": 3
   },
   "file_extension": ".py",
   "mimetype": "text/x-python",
   "name": "python",
   "nbconvert_exporter": "python",
   "pygments_lexer": "ipython3",
   "version": "3.7.6"
  },
  "orig_nbformat": 4
 },
 "nbformat": 4,
 "nbformat_minor": 2
}
